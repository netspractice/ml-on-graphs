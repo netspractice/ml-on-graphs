{
 "cells": [
  {
   "cell_type": "markdown",
   "metadata": {},
   "source": [
    "# Competition — Link Prediction"
   ]
  },
  {
   "cell_type": "markdown",
   "metadata": {},
   "source": [
    "### Challenge Overview"
   ]
  },
  {
   "cell_type": "markdown",
   "metadata": {},
   "source": [
    "The dataset contains publications that is described by a binary vector indicating the presence of the corresponding word. The dateset can be represented as a graph where nodes are publications and edges are citations. For simplicity, let us say that this graph is undirected. The most similar pairs of nodes which are not connected was selected in the same amount as existent edges. The used proximity metric is cosine similarity, which is a normalized dot product of adjacency matrix. Let us denote existent edges by label 1 and additionally selected pairs by label 0.\n",
    "\n",
    "The dataset is represented by 3 files:\n",
    "* features.txt contains description of the papers in the format:\n",
    "    * `<node id> <3703 unique one-hot encoded words>`\n",
    "* labeled_edges.txt contains labeled pairs of nodes in the format:\n",
    "    * `<node id> <node id> <label>`\n",
    "* unlabeled_edges.txt contains unlabeled pairs of nodes in the format:\n",
    "    * `<node id> <node id>`\n",
    "\n",
    "Your task is to predict labels for unlabeled pairs of nodes: 0 — disconnected, 1 — connected.\n",
    "\n",
    "Hints:\n",
    "* Consider the features only. Transform the sparse feature matrix into low-dimensional dense embeddings. Fit a classificator to predict links.\n",
    "* Consider the structure only. Create a graph that consists of edges with labels 1. Train any structural embedding model to obtain node embeddings. Fit a classificator to predict links.\n",
    "* Consider the both structure and features. Create a graph that consists of edges with labels 0, labels 1 and no labels. Train any GNN model to obtain node embeddings. Minimize the link prediction error by gradient descent.\n",
    "* Concatenate (multiply, sum up, average) pairs of node embeddings to obtain edge embeddings.\n",
    "* You can combine embeddings from heterogeneous models."
   ]
  },
  {
   "cell_type": "markdown",
   "metadata": {},
   "source": [
    "### Evaluation Criteria"
   ]
  },
  {
   "cell_type": "markdown",
   "metadata": {},
   "source": [
    "Here are balanced classes, so the usual accuracy metric is used:\n",
    "\n",
    "* Accuracy = True predictions / All predictions\n",
    "\n",
    "You can find baselines for grade 4, 6, 8 in the leaderboard."
   ]
  },
  {
   "cell_type": "markdown",
   "metadata": {},
   "source": [
    "### Submission Guidelines"
   ]
  },
  {
   "cell_type": "markdown",
   "metadata": {},
   "source": [
    "Upload the txt file with your predictions sepateted by line break. For example:\n",
    "```\n",
    "1\n",
    "1\n",
    "0\n",
    "1\n",
    "0\n",
    "```\n",
    "... and so on."
   ]
  },
  {
   "cell_type": "code",
   "execution_count": null,
   "metadata": {},
   "outputs": [],
   "source": []
  }
 ],
 "metadata": {
  "kernelspec": {
   "display_name": "Python 3",
   "language": "python",
   "name": "python3"
  },
  "language_info": {
   "codemirror_mode": {
    "name": "ipython",
    "version": 3
   },
   "file_extension": ".py",
   "mimetype": "text/x-python",
   "name": "python",
   "nbconvert_exporter": "python",
   "pygments_lexer": "ipython3",
   "version": "3.7.4"
  }
 },
 "nbformat": 4,
 "nbformat_minor": 4
}
